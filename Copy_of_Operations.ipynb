{
  "nbformat": 4,
  "nbformat_minor": 0,
  "metadata": {
    "colab": {
      "name": "Copy of Operations.ipynb",
      "provenance": [],
      "authorship_tag": "ABX9TyNh+aMCsAgBMqL6DVfXmt2L",
      "include_colab_link": true
    },
    "kernelspec": {
      "name": "python3",
      "display_name": "Python 3"
    },
    "language_info": {
      "name": "python"
    }
  },
  "cells": [
    {
      "cell_type": "markdown",
      "metadata": {
        "id": "view-in-github",
        "colab_type": "text"
      },
      "source": [
        "<a href=\"https://colab.research.google.com/github/Ab1433/Abhi/blob/Student/Copy_of_Operations.ipynb\" target=\"_parent\"><img src=\"https://colab.research.google.com/assets/colab-badge.svg\" alt=\"Open In Colab\"/></a>"
      ]
    },
    {
      "cell_type": "markdown",
      "metadata": {
        "id": "rCPa0ZNf-ikN"
      },
      "source": [
        "EXCERSICE 2:OPERATIONS\n",
        "\n",
        "a)Write a program to compute distance between two points taking input from the user"
      ]
    },
    {
      "cell_type": "code",
      "metadata": {
        "colab": {
          "base_uri": "https://localhost:8080/"
        },
        "id": "Aeh6PDKa--vy",
        "outputId": "76788002-4308-4507-d38f-ff17024e85c7"
      },
      "source": [
        "#Way1\n",
        "x1=int(input(\"Enter X1 point:\"))\n",
        "y1=int(input(\"Enter Y1 point:\"))\n",
        "x2=int(input(\"Enter X2 point:\"))\n",
        "y2=int(input(\"Enter Y2 point:\"))\n",
        "dis=((((x2-x1) ** 2)+((y2-y1) ** 2)) ** 0.5)\n",
        "print(\"Distance between two points:\",dis)"
      ],
      "execution_count": null,
      "outputs": [
        {
          "output_type": "stream",
          "text": [
            "Enter X1 point:6\n",
            "Enter Y1 point:4\n",
            "Enter X2 point:2\n",
            "Enter Y2 point:0\n",
            "Distance between two points: 5.656854249492381\n"
          ],
          "name": "stdout"
        }
      ]
    },
    {
      "cell_type": "code",
      "metadata": {
        "colab": {
          "base_uri": "https://localhost:8080/"
        },
        "id": "HTd3Tg4sC81k",
        "outputId": "2d6b0c1c-3816-414a-ac6f-b851671e12c3"
      },
      "source": [
        "#Way2\n",
        "import math\n",
        "x1=int(input(\"Enter X1 point:\"))\n",
        "y1=int(input(\"Enter Y1 point:\"))\n",
        "x2=int(input(\"Enter X2 point:\"))\n",
        "y2=int(input(\"Enter Y2 point:\"))\n",
        "dis=math.sqrt(math.pow(x2 - x1, 2) +math.pow(y2 - y1, 2) * 1.0)\n",
        "print(dis)"
      ],
      "execution_count": null,
      "outputs": [
        {
          "output_type": "stream",
          "text": [
            "Enter X1 point:4\n",
            "Enter Y1 point:3\n",
            "Enter X2 point:0\n",
            "Enter Y2 point:0\n",
            "5.0\n"
          ],
          "name": "stdout"
        }
      ]
    },
    {
      "cell_type": "markdown",
      "metadata": {
        "id": "uyGme3DfDdCw"
      },
      "source": [
        "b)Write a program that add.py that takes 2 numbers as command line arguments and prints its sum"
      ]
    },
    {
      "cell_type": "code",
      "metadata": {
        "id": "3qpfQm0SDxdo"
      },
      "source": [
        "#import sys\n",
        "#x=int(sys.argv[1])\n",
        "#y=int(sys. argv[2])\n",
        "#sum=x+y\n",
        "#print(\"The addition is :\",sum)\n",
        "# there is no command line argument passing in collab if there the execution will be like below\n",
        "#C:\\Users\\dell\\AppData\\Local\\Programs\\Python\\Python39>sum.py 7 3 #passing command line arguments\n",
        "#The addition is : 10 output line"
      ],
      "execution_count": null,
      "outputs": []
    }
  ]
}