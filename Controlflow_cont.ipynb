{
  "nbformat": 4,
  "nbformat_minor": 0,
  "metadata": {
    "colab": {
      "name": "Controlflow_cont.ipynb",
      "provenance": [],
      "collapsed_sections": [],
      "authorship_tag": "ABX9TyOKLd8uC1REDczK5S1FLSZU",
      "include_colab_link": true
    },
    "kernelspec": {
      "name": "python3",
      "display_name": "Python 3"
    },
    "language_info": {
      "name": "python"
    }
  },
  "cells": [
    {
      "cell_type": "markdown",
      "metadata": {
        "id": "view-in-github",
        "colab_type": "text"
      },
      "source": [
        "<a href=\"https://colab.research.google.com/github/Ab1433/Abhi/blob/Student/Controlflow_cont.ipynb\" target=\"_parent\"><img src=\"https://colab.research.google.com/assets/colab-badge.svg\" alt=\"Open In Colab\"/></a>"
      ]
    },
    {
      "cell_type": "markdown",
      "metadata": {
        "id": "QFfncd7IWIoB"
      },
      "source": [
        "EXCERCISE:4-CONTROLFLOW_CONT"
      ]
    },
    {
      "cell_type": "markdown",
      "metadata": {
        "id": "KBrTmMkKWUNB"
      },
      "source": [
        "a)Find sum of all the primes below two million "
      ]
    },
    {
      "cell_type": "code",
      "metadata": {
        "colab": {
          "base_uri": "https://localhost:8080/"
        },
        "id": "ejPFXg_udxd9",
        "outputId": "83a10cae-ed1f-4bd4-e11c-8112a3af6d45"
      },
      "source": [
        "import math\n",
        "def check_prime(num):\n",
        "    if num > 2 and num % 2 == 0:\n",
        "        return False\n",
        "    else:\n",
        "      \n",
        "        for i in range(3, int(math.sqrt(num)) + 1, 2):\n",
        "            if num % i == 0:\n",
        "                return False\n",
        "    return True\n",
        "sum = 0\n",
        "for i in range(2, 2000000):\n",
        "        if check_prime(i):\n",
        "            sum += i\n",
        "print(sum)"
      ],
      "execution_count": 10,
      "outputs": [
        {
          "output_type": "stream",
          "text": [
            "142913828922\n"
          ],
          "name": "stdout"
        }
      ]
    },
    {
      "cell_type": "markdown",
      "metadata": {
        "id": "FHNvFVJ_mzJm"
      },
      "source": [
        "b)Find the sum of even terms in fibonacci series below four milions"
      ]
    },
    {
      "cell_type": "code",
      "metadata": {
        "colab": {
          "base_uri": "https://localhost:8080/"
        },
        "id": "7wHItodErW7-",
        "outputId": "c2336776-6b25-4dae-b5e7-a375af2578c6"
      },
      "source": [
        " a=0\n",
        "b=2\n",
        "sum=a+b\n",
        "while (b<=4000000) :\n",
        "        c=4*b+a\n",
        "        if (c> 4000000) :\n",
        "           break\n",
        "        a=b\n",
        "        b=c\n",
        "        sum=sum+c\n",
        "print(sum)"
      ],
      "execution_count": 17,
      "outputs": [
        {
          "output_type": "stream",
          "text": [
            "4613732\n"
          ],
          "name": "stdout"
        }
      ]
    },
    {
      "cell_type": "markdown",
      "metadata": {
        "id": "hvg2krvnWHW5"
      },
      "source": [
        ""
      ]
    }
  ]
}