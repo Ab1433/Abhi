{
  "nbformat": 4,
  "nbformat_minor": 0,
  "metadata": {
    "colab": {
      "name": "EXCERSICE-8.ipynb",
      "provenance": [],
      "authorship_tag": "ABX9TyMmts82gmF2zMyHOrOTmB1D",
      "include_colab_link": true
    },
    "kernelspec": {
      "name": "python3",
      "display_name": "Python 3"
    },
    "language_info": {
      "name": "python"
    }
  },
  "cells": [
    {
      "cell_type": "markdown",
      "metadata": {
        "id": "view-in-github",
        "colab_type": "text"
      },
      "source": [
        "<a href=\"https://colab.research.google.com/github/Ab1433/Abhi/blob/Student/EXCERSICE_8.ipynb\" target=\"_parent\"><img src=\"https://colab.research.google.com/assets/colab-badge.svg\" alt=\"Open In Colab\"/></a>"
      ]
    },
    {
      "cell_type": "code",
      "metadata": {
        "id": "KA57I2P1YNJg"
      },
      "source": [
        ""
      ],
      "execution_count": null,
      "outputs": []
    },
    {
      "cell_type": "markdown",
      "metadata": {
        "id": "WS-6jMKWYS0x"
      },
      "source": [
        " \n",
        "Exercise -8 Functions\n",
        " \n",
        "a) Write a function ball collide that takes two balls as parameters and computes if they arecolliding.\n",
        " \n",
        "Your function should return a Boolean representing whether or not the balls arecolliding."
      ]
    },
    {
      "cell_type": "code",
      "metadata": {
        "colab": {
          "base_uri": "https://localhost:8080/"
        },
        "id": "zECvF0LsYeM3",
        "outputId": "a552ef21-56db-4290-f731-69ac39db2403"
      },
      "source": [
        " import math\n",
        "def ball_collide(ball_tuple1,ball_tuple2):\n",
        "    d=math.sqrt((ball_tuple1[0]-ball_tuple2[0])**2 + \n",
        " \n",
        "(ball_tuple1[1]-ball_tuple2[1])**2)\n",
        "    if(d<=(ball_tuple1[2]+ball_tuple2[2])):\n",
        "        return True\n",
        "    else:\n",
        "        return False\n",
        " \n",
        "ball_tuple1=(-2,-2,3)\n",
        "ball_tuple2=(1,1,3)\n",
        "collision=ball_collide(ball_tuple1,ball_tuple2)\n",
        "if(collision):\n",
        "    print(\"Balls are collide.\")\n",
        "else:\n",
        "    print(\"Balls are not collide.\")"
      ],
      "execution_count": 1,
      "outputs": [
        {
          "output_type": "stream",
          "text": [
            "Balls are collide.\n"
          ],
          "name": "stdout"
        }
      ]
    },
    {
      "cell_type": "markdown",
      "metadata": {
        "id": "mvOJr05yaOPU"
      },
      "source": [
        " b) Find mean, median, mode for the given set of numbers in a list."
      ]
    },
    {
      "cell_type": "code",
      "metadata": {
        "colab": {
          "base_uri": "https://localhost:8080/"
        },
        "id": "4TIcI2wvcvxc",
        "outputId": "49bcbaa6-9cdd-4c2d-8650-0c47bf499a70"
      },
      "source": [
        " \n",
        "import numpy as np\n",
        "from scipy import stats\n",
        " \n",
        "dataset= [1,1,2,3,4,6,18]\n",
        "mean= np.mean(dataset)\n",
        "median = np.median(dataset)\n",
        "mode= stats.mode(dataset)\n",
        "print(\"Mean: \", mean)\n",
        "print(\"Median: \", median)\n",
        "print(\"Mode: \", mode)"
      ],
      "execution_count": 13,
      "outputs": [
        {
          "output_type": "stream",
          "text": [
            "Mean:  5.0\n",
            "Median:  3.0\n",
            "Mode:  ModeResult(mode=array([1]), count=array([2]))\n"
          ],
          "name": "stdout"
        }
      ]
    }
  ]
}