{
  "nbformat": 4,
  "nbformat_minor": 0,
  "metadata": {
    "colab": {
      "name": "Copy of Control flow.ipynb",
      "provenance": [],
      "collapsed_sections": [],
      "authorship_tag": "ABX9TyNg+PPxRHqHJbh3YkypMQL9",
      "include_colab_link": true
    },
    "kernelspec": {
      "name": "python3",
      "display_name": "Python 3"
    },
    "language_info": {
      "name": "python"
    }
  },
  "cells": [
    {
      "cell_type": "markdown",
      "metadata": {
        "id": "view-in-github",
        "colab_type": "text"
      },
      "source": [
        "<a href=\"https://colab.research.google.com/github/Ab1433/Abhi/blob/Student/Copy_of_Control_flow.ipynb\" target=\"_parent\"><img src=\"https://colab.research.google.com/assets/colab-badge.svg\" alt=\"Open In Colab\"/></a>"
      ]
    },
    {
      "cell_type": "markdown",
      "metadata": {
        "id": "3YefCA1qTMWn"
      },
      "source": [
        "EXCERCISE:3.CONTROL FLOW"
      ]
    },
    {
      "cell_type": "markdown",
      "metadata": {
        "id": "D5bKOZVP-bGx"
      },
      "source": [
        "a)Write a program to test wheter the given number is even or not"
      ]
    },
    {
      "cell_type": "code",
      "metadata": {
        "colab": {
          "base_uri": "https://localhost:8080/"
        },
        "id": "VvB2pBaV-naJ",
        "outputId": "1f26718d-8d86-40bd-e6a9-90a9639ff9a0"
      },
      "source": [
        "a=int(input(\"Enter a Number : \"));\n",
        "if(a%2==0):\n",
        "     print(\"This Number is Even\")\n",
        "else:\n",
        "     print(\"This Number is Odd\")"
      ],
      "execution_count": null,
      "outputs": [
        {
          "output_type": "stream",
          "text": [
            "Enter a Number : 5\n",
            "This Number is Odd\n"
          ],
          "name": "stdout"
        }
      ]
    },
    {
      "cell_type": "markdown",
      "metadata": {
        "id": "zu5yPdxv_lET"
      },
      "source": [
        "b)Using for loop ,write a program that prints out the decimal equivalent of 1/2,1/3,1/4...1/10"
      ]
    },
    {
      "cell_type": "code",
      "metadata": {
        "colab": {
          "base_uri": "https://localhost:8080/"
        },
        "id": "90Rko9JNAPe5",
        "outputId": "c9679a48-92e6-4569-c013-15155d3333dc"
      },
      "source": [
        "for i in range(2,11):\n",
        "\n",
        "     print((1/i),) "
      ],
      "execution_count": null,
      "outputs": [
        {
          "output_type": "stream",
          "text": [
            "0.5\n",
            "0.3333333333333333\n",
            "0.25\n",
            "0.2\n",
            "0.16666666666666666\n",
            "0.14285714285714285\n",
            "0.125\n",
            "0.1111111111111111\n",
            "0.1\n"
          ],
          "name": "stdout"
        }
      ]
    },
    {
      "cell_type": "markdown",
      "metadata": {
        "id": "GE98mCiDA0YR"
      },
      "source": [
        "c)Write a program that loops over a sequence .What is a sequence?"
      ]
    },
    {
      "cell_type": "markdown",
      "metadata": {
        "id": "dKO1ltEYCu2y"
      },
      "source": [
        "Sequences allow you to store multiple values in an organized and efficient way."
      ]
    },
    {
      "cell_type": "code",
      "metadata": {
        "id": "DyqHTmMeBFaq"
      },
      "source": [
        "#Sum of all the list elements \n",
        "Num=[1,2,3,4,5,6,7,8,9,10]\n",
        "Sum=0\n",
        "for i in Num:\n",
        "    Sum=Sum+i\n",
        "print(Sum)"
      ],
      "execution_count": null,
      "outputs": []
    },
    {
      "cell_type": "markdown",
      "metadata": {
        "id": "WA-YeA1yCGWh"
      },
      "source": [
        "d)Write a program using while loop that asks for the number and prints a countdown from that number to zero"
      ]
    },
    {
      "cell_type": "code",
      "metadata": {
        "colab": {
          "base_uri": "https://localhost:8080/"
        },
        "id": "Fmm9XZNxDG2X",
        "outputId": "087ec0ec-d95c-4567-c3f4-4655024a9ec9"
      },
      "source": [
        "num=int(input(\"Enter your number\"))\n",
        "while(num>=0):\n",
        "    print(num)\n",
        "    num=num-1"
      ],
      "execution_count": null,
      "outputs": [
        {
          "output_type": "stream",
          "text": [
            "Enter your number5\n",
            "5\n",
            "4\n",
            "3\n",
            "2\n",
            "1\n",
            "0\n",
            "Enter your number0\n"
          ],
          "name": "stdout"
        }
      ]
    }
  ]
}