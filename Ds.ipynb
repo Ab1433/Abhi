{
  "nbformat": 4,
  "nbformat_minor": 0,
  "metadata": {
    "colab": {
      "name": "Ds.ipynb",
      "provenance": [],
      "collapsed_sections": [],
      "toc_visible": true,
      "include_colab_link": true
    },
    "kernelspec": {
      "display_name": "Python 3",
      "name": "python3"
    },
    "language_info": {
      "name": "python"
    }
  },
  "cells": [
    {
      "cell_type": "markdown",
      "metadata": {
        "id": "view-in-github",
        "colab_type": "text"
      },
      "source": [
        "<a href=\"https://colab.research.google.com/github/Ab1433/Abhi/blob/Student/Ds.ipynb\" target=\"_parent\"><img src=\"https://colab.research.google.com/assets/colab-badge.svg\" alt=\"Open In Colab\"/></a>"
      ]
    },
    {
      "cell_type": "markdown",
      "metadata": {
        "id": "T4KJ8DRcwdED"
      },
      "source": [
        "EXCERCISE:5 DS\n",
        "A)Write a program to count the number of characters in the string and store them in a dictionary data structure"
      ]
    },
    {
      "cell_type": "code",
      "metadata": {
        "colab": {
          "background_save": true,
          "base_uri": "https://localhost:8080/"
        },
        "id": "ag2vn0kUxquA",
        "outputId": "ea39681b-3d07-4bb9-b7d8-410a8f5775fc"
      },
      "source": [
        "str=input(\"enter string : \")\n",
        "f = {} \n",
        "for i in str: \n",
        "    if i in f: \n",
        "        f[i] += 1\n",
        "    else: \n",
        "        f[i] = 1\n",
        "print(f)"
      ],
      "execution_count": null,
      "outputs": [
        {
          "output_type": "stream",
          "text": [
            "{'a': 1, 'b': 1, 'h': 1, 'i': 3}\n"
          ],
          "name": "stdout"
        }
      ]
    },
    {
      "cell_type": "markdown",
      "metadata": {
        "id": "_FkoUp7EE5LI"
      },
      "source": [
        "b)Write  a  program to use split and join methods in the string and trace a birthday with a dictionary data structure"
      ]
    },
    {
      "cell_type": "code",
      "metadata": {
        "colab": {
          "base_uri": "https://localhost:8080/"
        },
        "id": "eoZbge0JE-j4",
        "outputId": "540870cc-37e2-4fd0-a419-21544be6b3c3"
      },
      "source": [
        "dob={\"abhi\":\"24-nov-2001\",\"lasy\":\"20-june-2014\"}\n",
        "name=input(\"Which person dob do you want to find:\")\n",
        "I=name.split()\n",
        "birth=\"\"\n",
        "for i in I:\n",
        "  if i in dob.keys():\n",
        "        pers=i\n",
        "print(\"\".join([pers,\"  birthday is \",dob[pers]]))"
      ],
      "execution_count": 3,
      "outputs": [
        {
          "output_type": "stream",
          "text": [
            "Which person dob do you want to find:abhi\n",
            "abhibirthday is24-nov-2001\n"
          ],
          "name": "stdout"
        }
      ]
    }
  ]
}